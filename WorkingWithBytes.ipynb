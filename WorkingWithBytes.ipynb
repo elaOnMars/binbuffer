{
 "cells": [
  {
   "cell_type": "markdown",
   "metadata": {},
   "source": [
    "# Working with Bytes\n",
    "This notebook contains a few short examples of how to work with binary data in python.  It's intended purely as background / review. "
   ]
  },
  {
   "cell_type": "markdown",
   "metadata": {},
   "source": [
    "### bytes and hex format\n",
    "\n",
    "When working with bytes it's good to get at least a little bit used to hexidecimal format.  In modern computing, a byte is always 8 bits which means it can encode unsigned values from 0 to 255."
   ]
  },
  {
   "cell_type": "code",
   "execution_count": 1,
   "metadata": {},
   "outputs": [
    {
     "data": {
      "text/plain": [
       "'0xff'"
      ]
     },
     "execution_count": 1,
     "metadata": {},
     "output_type": "execute_result"
    }
   ],
   "source": [
    "# expressed in hexidecimal, 255 is ff\n",
    "# the 'hex' built in function returns the hexidecimal string prepended with '0x'\n",
    "hex(255)"
   ]
  },
  {
   "cell_type": "code",
   "execution_count": 2,
   "metadata": {},
   "outputs": [
    {
     "data": {
      "text/plain": [
       "'ff'"
      ]
     },
     "execution_count": 2,
     "metadata": {},
     "output_type": "execute_result"
    }
   ],
   "source": [
    "# you can also use string.format with the 'x' format specifier like so:\n",
    "'{:x}'.format(255)"
   ]
  },
  {
   "cell_type": "code",
   "execution_count": 3,
   "metadata": {},
   "outputs": [
    {
     "data": {
      "text/plain": [
       "'0f'"
      ]
     },
     "execution_count": 3,
     "metadata": {},
     "output_type": "execute_result"
    }
   ],
   "source": [
    "# note that when expressed in hex, a single byte might need two characters to represent it.\n",
    "# if an unsigned byte is less than 15, then we usually pad to the left with a zero.\n",
    "# we can use string.format to do this:\n",
    "'{:02x}'.format(15)"
   ]
  },
  {
   "cell_type": "markdown",
   "metadata": {},
   "source": [
    "### bytes and bytearray ( native Python types )\n",
    "\n",
    "bytes is a native python type which holds an immutable sequence of bytes.  There are several ways to create them and we go over a few here.\n",
    "\n",
    "bytearray is pretty much the same as bytes except it is not immutable.  For simplicity, we'll just do examples with bytes here"
   ]
  },
  {
   "cell_type": "code",
   "execution_count": 4,
   "metadata": {},
   "outputs": [
    {
     "name": "stdout",
     "output_type": "stream",
     "text": [
      "b'some'\n",
      "255\n"
     ]
    }
   ],
   "source": [
    "# initialize from a string-literal.  Just prefix a string with the letter b.\n",
    "# For characters with ASCII codes < 127, you can just use an ascii character.   \n",
    "# For any other byte value, you need to express the byte in hex preceeded by '\\x'\n",
    "our_bytes = b'some text\\x01\\xff'\n",
    "\n",
    "# once you have a bytes object you can take slices just as with strings\n",
    "# byte values < 127 which represent printable characters will get represented as ASCII text\n",
    "print(our_bytes[0:4])\n",
    "print(our_bytes[10])"
   ]
  },
  {
   "cell_type": "code",
   "execution_count": 5,
   "metadata": {},
   "outputs": [
    {
     "name": "stdout",
     "output_type": "stream",
     "text": [
      "b'\\xff\\x00\\x00\\x00'\n",
      "ff000000\n"
     ]
    }
   ],
   "source": [
    "# you can also create bytes by using struct.pack\n",
    "import struct\n",
    "our_bytes = struct.pack('<i', 255)\n",
    "\n",
    "print(our_bytes)\n",
    "print(our_bytes.hex())   # sometimes it's easier to read bytes when they're expressed in hex"
   ]
  },
  {
   "cell_type": "code",
   "execution_count": 6,
   "metadata": {},
   "outputs": [
    {
     "name": "stdout",
     "output_type": "stream",
     "text": [
      "b'\\x00\\x00\\x00\\xff'\n"
     ]
    }
   ],
   "source": [
    "# In the above cell, note that 255 is 'ff' in hex, but that it's followed by three 'zero' bytes \n",
    "# which are printed as \\x00.  This is because the '<i' format in struct.pack represents a 4 byte integer\n",
    "# stored in 'little endian' byte order.  Little endian byte order means that the least significant bytes\n",
    "# come in the first field rather than in the last field the way humans write numbers.  You can also\n",
    "# pack bytes in 'big endian' format by using the '>i' format specifier\n",
    "our_bytes = struct.pack('>i', 255)\n",
    "print(our_bytes)"
   ]
  },
  {
   "cell_type": "code",
   "execution_count": 7,
   "metadata": {},
   "outputs": [
    {
     "name": "stdout",
     "output_type": "stream",
     "text": [
      "b'\\x01\\x00\\x00\\x00\\x02\\x00\\x00\\x00hiya\\x00'\n"
     ]
    }
   ],
   "source": [
    "# the struct.pack command can also pack multiple fields into a byte array.  Just use a different \n",
    "# format specifier.  Here we'll pack two 4 byte ints followed by a 5 byte field of raw bytes\n",
    "fmt = '<ii5s'\n",
    "our_bytes = struct.pack(fmt, 1, 2, b'hiya')\n",
    "print(our_bytes)  \n",
    "\n",
    "# we only gave struct.pack 4 bytes from b'hiya' so it just zero padded the string to make a 5 byte field"
   ]
  },
  {
   "cell_type": "markdown",
   "metadata": {},
   "source": [
    "### extracting ints and strings from bytes\n",
    "\n",
    "Mostly, when working with binary data we'll already have the byte data and instead, we'll need to extract  native python types from them.  Here we go over a few ways to do that."
   ]
  },
  {
   "cell_type": "code",
   "execution_count": 8,
   "metadata": {},
   "outputs": [
    {
     "name": "stdout",
     "output_type": "stream",
     "text": [
      "b'\\x80\\x00\\x00\\x00\\x81\\x00\\x00\\x00heya\\x00'\n"
     ]
    }
   ],
   "source": [
    "# first let's create a simple byte array with two ints and a string\n",
    "fmt = '<ii5s'\n",
    "our_bytes = struct.pack(fmt, 128, 129, b'heya')\n",
    "print(our_bytes)"
   ]
  },
  {
   "cell_type": "code",
   "execution_count": 9,
   "metadata": {},
   "outputs": [
    {
     "data": {
      "text/plain": [
       "128"
      ]
     },
     "execution_count": 9,
     "metadata": {},
     "output_type": "execute_result"
    }
   ],
   "source": [
    "# to extract the int that we've encoded in the first four bytes we can use the function int.from_bytes\n",
    "int.from_bytes(our_bytes[0:4], 'little', signed=True)"
   ]
  },
  {
   "cell_type": "code",
   "execution_count": 10,
   "metadata": {},
   "outputs": [
    {
     "data": {
      "text/plain": [
       "129"
      ]
     },
     "execution_count": 10,
     "metadata": {},
     "output_type": "execute_result"
    }
   ],
   "source": [
    "# we can access the second four bytes like so:\n",
    "int.from_bytes(our_bytes[4:8], 'little', signed=True)"
   ]
  },
  {
   "cell_type": "code",
   "execution_count": 11,
   "metadata": {},
   "outputs": [
    {
     "data": {
      "text/plain": [
       "(128, 129)"
      ]
     },
     "execution_count": 11,
     "metadata": {},
     "output_type": "execute_result"
    }
   ],
   "source": [
    "# we can also use struct.unpack which can unpack multiple values and will return a tuple\n",
    "struct.unpack('<ii', our_bytes[0:8])"
   ]
  },
  {
   "cell_type": "code",
   "execution_count": 12,
   "metadata": {},
   "outputs": [
    {
     "data": {
      "text/plain": [
       "'heya\\x00'"
      ]
     },
     "execution_count": 12,
     "metadata": {},
     "output_type": "execute_result"
    }
   ],
   "source": [
    "# to create python strings we can use the decode method of bytes\n",
    "# but note that when applied here, this will also literally convert the trailing '\\x00' byte.\n",
    "our_bytes[8:].decode('utf-8')"
   ]
  },
  {
   "cell_type": "code",
   "execution_count": 13,
   "metadata": {},
   "outputs": [
    {
     "data": {
      "text/plain": [
       "'heya'"
      ]
     },
     "execution_count": 13,
     "metadata": {},
     "output_type": "execute_result"
    }
   ],
   "source": [
    "# to convert bytes to a str and remove any trailing 'zeros' just use rstrip\n",
    "our_bytes[8:].decode('utf-8').rstrip('\\x00')"
   ]
  },
  {
   "cell_type": "markdown",
   "metadata": {},
   "source": [
    "### saving and loading bytes from files\n",
    "\n",
    "It's easy to load bytes from files or save them.  Just open the file in binary format and use read/write"
   ]
  },
  {
   "cell_type": "code",
   "execution_count": 14,
   "metadata": {},
   "outputs": [],
   "source": [
    "# for an example, we'll create some binary records with the following format\n",
    "fmt = '<HHi5s'  # H represents a two byte unsigned integer.  \n",
    "# See documentation for struct.pack\n",
    "r1 = struct.pack(fmt, 9, 1, 1, b'one')\n",
    "r2 = struct.pack(fmt, 9, 1, 2, b'two')\n",
    "r3 = struct.pack(fmt, 9, 1, 3, b'three')\n",
    "\n",
    "# we can concatenate them all together\n",
    "b = r1 + r2 + r3\n",
    "\n",
    "# and just write to a file ( make sure to open it in binary format!!! )\n",
    "with open('simple_binary.bin', 'wb') as f:\n",
    "    f.write(b)"
   ]
  },
  {
   "cell_type": "code",
   "execution_count": 15,
   "metadata": {},
   "outputs": [],
   "source": [
    "# for an example, we'll create some binary records with the following format\n",
    "fmtA = '<HHi5s'  # H represents a two byte unsigned integer.  \n",
    "fmtB = '<HHiiii'\n",
    "# See documentation for struct.pack\n",
    "r1a = struct.pack(fmtA, 9, 1, 1, b'one')\n",
    "r2a = struct.pack(fmtA, 9, 1, 2, b'two')\n",
    "r3a = struct.pack(fmtA, 9, 1, 3, b'three')\n",
    "r1b = struct.pack(fmtB, 16, 2, 1, 2, 3, 4)\n",
    "r2b = struct.pack(fmtB, 16, 2, 2, 4, 6, 8)\n",
    "r3b = struct.pack(fmtB, 16, 2, 3, 6, 9, 12)\n",
    "\n",
    "# we can concatenate them all together\n",
    "b = r1a + r1b + r2a + r2b + r3a + r3b\n",
    "\n",
    "# and just write to a file ( make sure to open it in binary format!!! )\n",
    "with open('simple_binary_mixed.bin', 'wb') as f:\n",
    "    f.write(b)"
   ]
  },
  {
   "cell_type": "code",
   "execution_count": 16,
   "metadata": {},
   "outputs": [],
   "source": [
    "# we can read our bytes back easily by opening the file and doing a file.read\n",
    "with open('simple_binary_mixed.bin', 'rb') as f:\n",
    "    b2 = f.read()\n",
    "assert(b == b2)"
   ]
  },
  {
   "cell_type": "markdown",
   "metadata": {},
   "source": [
    "if your binary file is really big and you want to only read some of it, you can pass an optional 'number of bytes to read' to file.read.  Also see the documentation for file.seek which lets you move the file pointer through the file without reading anything.  And also file.tell which tells you where you are in the file"
   ]
  },
  {
   "cell_type": "code",
   "execution_count": 17,
   "metadata": {},
   "outputs": [
    {
     "name": "stdout",
     "output_type": "stream",
     "text": [
      "0900\n"
     ]
    }
   ],
   "source": [
    "# here we'll just read the first two bytes of the file\n",
    "with open('simple_binary.bin', 'rb') as f:\n",
    "    b3 = f.read(2)\n",
    "print(b3.hex())"
   ]
  }
 ],
 "metadata": {
  "kernelspec": {
   "display_name": "Python 3",
   "language": "python",
   "name": "python3"
  },
  "language_info": {
   "codemirror_mode": {
    "name": "ipython",
    "version": 3
   },
   "file_extension": ".py",
   "mimetype": "text/x-python",
   "name": "python",
   "nbconvert_exporter": "python",
   "pygments_lexer": "ipython3",
   "version": "3.7.6"
  }
 },
 "nbformat": 4,
 "nbformat_minor": 4
}
